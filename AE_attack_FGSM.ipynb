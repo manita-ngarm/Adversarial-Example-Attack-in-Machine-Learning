{
 "cells": [
  {
   "cell_type": "code",
   "execution_count": 95,
   "id": "1905ed96",
   "metadata": {},
   "outputs": [],
   "source": [
    "import tensorflow as tf\n",
    "import numpy as np\n",
    "import random\n",
    "import matplotlib.pyplot as plt\n",
    "\n",
    "from tensorflow.keras.datasets import mnist\n",
    "\n",
    "from tensorflow.keras import Sequential\n",
    "from tensorflow.keras.layers import Conv2D, MaxPooling2D, Dropout, Dense, Flatten, Activation\n",
    "from tensorflow.keras.callbacks import LambdaCallback "
   ]
  },
  {
   "cell_type": "markdown",
   "id": "8fbd7a42",
   "metadata": {},
   "source": [
    "## Prepare MNIST dataset"
   ]
  },
  {
   "cell_type": "code",
   "execution_count": 96,
   "id": "5163341e",
   "metadata": {},
   "outputs": [],
   "source": [
    "# Prepare MNIST data set from tensorflow\n",
    "(x_train, y_train), (x_test, y_test) = mnist.load_data()\n",
    "labels = [0,1,2,3,4,5,6,7,8,9]"
   ]
  },
  {
   "cell_type": "code",
   "execution_count": 97,
   "id": "e4b5b367",
   "metadata": {},
   "outputs": [
    {
     "name": "stdout",
     "output_type": "stream",
     "text": [
      "Data shapes (10000, 28, 28, 1) (10000, 10) (60000, 28, 28, 1) (60000, 10)\n"
     ]
    }
   ],
   "source": [
    "# Pre-process data\n",
    "img_rows, img_cols, channels = 28, 28, 1\n",
    "classes = 10\n",
    "\n",
    "x_train = x_train / 255\n",
    "x_test = x_test / 255\n",
    "\n",
    "x_train = x_train.reshape((-1, img_rows, img_cols, channels))\n",
    "x_test = x_test.reshape((-1, img_rows, img_cols, channels))\n",
    "\n",
    "y_train = tf.keras.utils.to_categorical(y_train, classes)\n",
    "y_test = tf.keras.utils.to_categorical(y_test, classes)\n",
    "\n",
    "print(\"Data shapes\", x_test.shape, y_test.shape, x_train.shape, y_train.shape)"
   ]
  },
  {
   "cell_type": "markdown",
   "id": "5b1a9a21",
   "metadata": {},
   "source": [
    "## NN model"
   ]
  },
  {
   "cell_type": "code",
   "execution_count": 98,
   "id": "32ff7e91",
   "metadata": {},
   "outputs": [],
   "source": [
    "# Create model\n",
    "def create_model():\n",
    "\n",
    "    model = Sequential()\n",
    "    model.add(Conv2D(32, kernel_size=(3, 3), strides=(3, 3), padding='same',activation='relu', input_shape=(img_rows, img_cols, channels)))\n",
    "    model.add(Conv2D(64, kernel_size=(3, 3), strides=(3, 3), padding='same',activation='relu'))\n",
    "    model.add(Conv2D(64, kernel_size=(3, 3), strides=(3, 3), padding='same',activation='relu'))\n",
    "    model.add(MaxPooling2D(pool_size=(2, 2)))\n",
    "    model.add(Flatten())\n",
    "    model.add(Dense(32))\n",
    "    model.add(Dropout(0.2))\n",
    "    # softmax classifier\n",
    "    model.add(Dense(classes,activation='softmax'))\n",
    "    \n",
    "    model.compile(optimizer='adam', loss='mse', metrics=['accuracy'])\n",
    "    \n",
    "    return model"
   ]
  },
  {
   "cell_type": "code",
   "execution_count": 99,
   "id": "3ab8c375",
   "metadata": {},
   "outputs": [
    {
     "name": "stdout",
     "output_type": "stream",
     "text": [
      "Model: \"sequential_14\"\n",
      "_________________________________________________________________\n",
      " Layer (type)                Output Shape              Param #   \n",
      "=================================================================\n",
      " conv2d_28 (Conv2D)          (None, 10, 10, 32)        320       \n",
      "                                                                 \n",
      " conv2d_29 (Conv2D)          (None, 4, 4, 64)          18496     \n",
      "                                                                 \n",
      " conv2d_30 (Conv2D)          (None, 2, 2, 64)          36928     \n",
      "                                                                 \n",
      " max_pooling2d_14 (MaxPoolin  (None, 1, 1, 64)         0         \n",
      " g2D)                                                            \n",
      "                                                                 \n",
      " flatten_14 (Flatten)        (None, 64)                0         \n",
      "                                                                 \n",
      " dense_28 (Dense)            (None, 32)                2080      \n",
      "                                                                 \n",
      " dropout_14 (Dropout)        (None, 32)                0         \n",
      "                                                                 \n",
      " dense_29 (Dense)            (None, 10)                330       \n",
      "                                                                 \n",
      "=================================================================\n",
      "Total params: 58,154\n",
      "Trainable params: 58,154\n",
      "Non-trainable params: 0\n",
      "_________________________________________________________________\n"
     ]
    }
   ],
   "source": [
    "# Create and fit model\n",
    "model = create_model()\n",
    "model.summary()"
   ]
  },
  {
   "cell_type": "code",
   "execution_count": 100,
   "id": "9e76eb06",
   "metadata": {
    "scrolled": true
   },
   "outputs": [
    {
     "name": "stdout",
     "output_type": "stream",
     "text": [
      "Epoch 1/20\n",
      "1875/1875 [==============================] - 4s 2ms/step - loss: 0.0149 - accuracy: 0.8967 - val_loss: 0.0056 - val_accuracy: 0.9633\n",
      "Epoch 2/20\n",
      "1875/1875 [==============================] - 4s 2ms/step - loss: 0.0062 - accuracy: 0.9599 - val_loss: 0.0041 - val_accuracy: 0.9723\n",
      "Epoch 3/20\n",
      "1875/1875 [==============================] - 4s 2ms/step - loss: 0.0049 - accuracy: 0.9687 - val_loss: 0.0039 - val_accuracy: 0.9737\n",
      "Epoch 4/20\n",
      "1875/1875 [==============================] - 4s 2ms/step - loss: 0.0040 - accuracy: 0.9744 - val_loss: 0.0035 - val_accuracy: 0.9777\n",
      "Epoch 5/20\n",
      "1875/1875 [==============================] - 4s 2ms/step - loss: 0.0036 - accuracy: 0.9771 - val_loss: 0.0031 - val_accuracy: 0.9801\n",
      "Epoch 6/20\n",
      "1875/1875 [==============================] - 4s 2ms/step - loss: 0.0032 - accuracy: 0.9797 - val_loss: 0.0032 - val_accuracy: 0.9796\n",
      "Epoch 7/20\n",
      "1875/1875 [==============================] - 4s 2ms/step - loss: 0.0029 - accuracy: 0.9815 - val_loss: 0.0031 - val_accuracy: 0.9804\n",
      "Epoch 8/20\n",
      "1875/1875 [==============================] - 4s 2ms/step - loss: 0.0027 - accuracy: 0.9834 - val_loss: 0.0031 - val_accuracy: 0.9799\n",
      "Epoch 9/20\n",
      "1875/1875 [==============================] - 4s 2ms/step - loss: 0.0025 - accuracy: 0.9842 - val_loss: 0.0031 - val_accuracy: 0.9800\n",
      "Epoch 10/20\n",
      "1875/1875 [==============================] - 4s 2ms/step - loss: 0.0022 - accuracy: 0.9858 - val_loss: 0.0029 - val_accuracy: 0.9815\n",
      "Epoch 11/20\n",
      "1875/1875 [==============================] - 4s 2ms/step - loss: 0.0020 - accuracy: 0.9871 - val_loss: 0.0032 - val_accuracy: 0.9801\n",
      "Epoch 12/20\n",
      "1875/1875 [==============================] - 4s 2ms/step - loss: 0.0020 - accuracy: 0.9875 - val_loss: 0.0033 - val_accuracy: 0.9786\n",
      "Epoch 13/20\n",
      "1875/1875 [==============================] - 4s 2ms/step - loss: 0.0020 - accuracy: 0.9877 - val_loss: 0.0030 - val_accuracy: 0.9804\n",
      "Epoch 14/20\n",
      "1875/1875 [==============================] - 4s 2ms/step - loss: 0.0018 - accuracy: 0.9887 - val_loss: 0.0030 - val_accuracy: 0.9812\n",
      "Epoch 15/20\n",
      "1875/1875 [==============================] - 4s 2ms/step - loss: 0.0017 - accuracy: 0.9895 - val_loss: 0.0029 - val_accuracy: 0.9822\n",
      "Epoch 16/20\n",
      "1875/1875 [==============================] - 4s 2ms/step - loss: 0.0016 - accuracy: 0.9900 - val_loss: 0.0029 - val_accuracy: 0.9826\n",
      "Epoch 17/20\n",
      "1875/1875 [==============================] - 4s 2ms/step - loss: 0.0016 - accuracy: 0.9903 - val_loss: 0.0028 - val_accuracy: 0.9828\n",
      "Epoch 18/20\n",
      "1875/1875 [==============================] - 4s 2ms/step - loss: 0.0015 - accuracy: 0.9906 - val_loss: 0.0030 - val_accuracy: 0.9810\n",
      "Epoch 19/20\n",
      "1875/1875 [==============================] - 4s 2ms/step - loss: 0.0015 - accuracy: 0.9909 - val_loss: 0.0029 - val_accuracy: 0.9826\n",
      "Epoch 20/20\n",
      "1875/1875 [==============================] - 4s 2ms/step - loss: 0.0014 - accuracy: 0.9912 - val_loss: 0.0029 - val_accuracy: 0.9829\n"
     ]
    },
    {
     "data": {
      "text/plain": [
       "<keras.callbacks.History at 0x1d780117b80>"
      ]
     },
     "execution_count": 100,
     "metadata": {},
     "output_type": "execute_result"
    }
   ],
   "source": [
    "model.fit(x_train, y_train,epochs=20,validation_data=(x_test, y_test))"
   ]
  },
  {
   "cell_type": "code",
   "execution_count": 120,
   "id": "6abad5e8",
   "metadata": {},
   "outputs": [
    {
     "name": "stdout",
     "output_type": "stream",
     "text": [
      "Model evaluation: 98.29%\n"
     ]
    }
   ],
   "source": [
    "# Model evaluation\n",
    "acc1 = model.evaluate(x=x_test, y=y_test, verbose=0)[1]*100\n",
    "print(\"Model evaluation: \" + str(round(acc1,2)) + \"%\")"
   ]
  },
  {
   "cell_type": "markdown",
   "id": "f449d53b",
   "metadata": {},
   "source": [
    "## Adversarial attack"
   ]
  },
  {
   "cell_type": "code",
   "execution_count": 102,
   "id": "92451568",
   "metadata": {},
   "outputs": [],
   "source": [
    "# Create perturbation\n",
    "\n",
    "#loss_object = tf.keras.losses.CategoricalCrossentropy()\n",
    "loss_object = tf.keras.losses.MeanSquaredError()\n",
    "\n",
    "def create_perturbation(image, label):\n",
    "    image = tf.cast(image, tf.float32)\n",
    "    \n",
    "    with tf.GradientTape() as tape:\n",
    "        tape.watch(image)\n",
    "        prediction = model(image)\n",
    "        loss = loss_object(label, prediction)\n",
    "        \n",
    "    # Compute gradients\n",
    "    gradient = tape.gradient(loss, image)\n",
    "    # Compute the sign of the gradients for perturbation\n",
    "    signed_grad = tf.sign(gradient)\n",
    "    \n",
    "    return signed_grad"
   ]
  },
  {
   "cell_type": "code",
   "execution_count": 103,
   "id": "c3c89075",
   "metadata": {},
   "outputs": [
    {
     "name": "stdout",
     "output_type": "stream",
     "text": [
      "Correct Label: 0\n",
      "Prediction Label: 2\n"
     ]
    },
    {
     "data": {
      "image/png": "[encoded data removed]",
      "text/plain": [
       "<Figure size 432x288 with 1 Axes>"
      ]
     },
     "metadata": {
      "needs_background": "light"
     },
     "output_type": "display_data"
    }
   ],
   "source": [
    "# Try to create a signle adversarial example\n",
    "image = x_train[1]\n",
    "image_label = y_train[1]\n",
    "perturbations = create_perturbation(image.reshape((1, img_rows, img_cols, channels)), image_label).numpy()\n",
    "adversarial = image + perturbations * 0.1\n",
    "\n",
    "print(\"Correct Label: \" + str(labels[model.predict(image.reshape((1, img_rows, img_cols, channels))).argmax()]))\n",
    "print(\"Prediction Label: \" + str(labels[model.predict(adversarial).argmax()]))\n",
    "\n",
    "plt.imshow(adversarial.reshape((img_rows, img_cols, channels)))\n",
    "plt.show()"
   ]
  },
  {
   "cell_type": "code",
   "execution_count": 104,
   "id": "c3306af8",
   "metadata": {},
   "outputs": [],
   "source": [
    "# Adversarial generator\n",
    "def generate_adversarials(batch_size):\n",
    "    while True:\n",
    "        x = []\n",
    "        y = []\n",
    "        z = []\n",
    "        for batch in range(batch_size):\n",
    "            n = random.randint(0, 100)\n",
    "\n",
    "            label = y_train[n]\n",
    "            image = x_train[n]\n",
    "            \n",
    "            perturbations = create_perturbation(image.reshape((1, img_rows, img_cols, channels)), label).numpy()\n",
    "            \n",
    "            epsilon = 0.1\n",
    "            adversarial = image + perturbations * epsilon\n",
    "            \n",
    "            x.append(adversarial)\n",
    "            y.append(y_train[n])\n",
    "            z.append(x_train[n])\n",
    "        \n",
    "        x = np.asarray(x).reshape((batch_size, img_rows, img_cols, channels))\n",
    "        y = np.asarray(y)\n",
    "        #original image\n",
    "        z = np.asarray(z).reshape((batch_size, img_rows, img_cols, channels))\n",
    "        \n",
    "        yield x, y, z"
   ]
  },
  {
   "cell_type": "code",
   "execution_count": 105,
   "id": "dd94e7ac",
   "metadata": {},
   "outputs": [
    {
     "data": {
      "image/png": "[encoded data removed]",
      "text/plain": [
       "<Figure size 360x1440 with 20 Axes>"
      ]
     },
     "metadata": {
      "needs_background": "light"
     },
     "output_type": "display_data"
    },
    {
     "data": {
      "text/plain": [
       "<Figure size 360x360 with 0 Axes>"
      ]
     },
     "metadata": {},
     "output_type": "display_data"
    }
   ],
   "source": [
    "# Generate and show sample 10 images\n",
    "adversarials, correct_labels, original_images = next(generate_adversarials(20))   \n",
    "f, axarr = plt.subplots(10, 2, figsize=(5,20))\n",
    "plt.figure(figsize=[5,5])\n",
    "for i in range(10):\n",
    "    a = labels[model.predict(adversarials[i].reshape((1, img_rows, img_cols, channels))).argmax()]\n",
    "    b = labels[correct_labels[i].argmax()]\n",
    "    axarr[i,0].set_axis_off()\n",
    "    axarr[i,1].set_axis_off()\n",
    "    axarr[i,0].set_title(\"Correct label: %s vs Prediction label: %s \" % (b,a))\n",
    "    axarr[i,0].imshow(original_images[i].reshape(img_rows, img_cols))\n",
    "    axarr[i,1].imshow(adversarials[i].reshape(img_rows, img_cols))\n",
    "plt.show()"
   ]
  },
  {
   "cell_type": "code",
   "execution_count": 106,
   "id": "b35c0a3f",
   "metadata": {},
   "outputs": [],
   "source": [
    "# Generate adversarial data\n",
    "x_adversarial_train, y_adversarial_train, x_original_train = next(generate_adversarials(20000))\n",
    "x_adversarial_test, y_adversarial_test, x_original_test = next(generate_adversarials(10000))"
   ]
  },
  {
   "cell_type": "code",
   "execution_count": 117,
   "id": "1ca7e2d8",
   "metadata": {},
   "outputs": [
    {
     "name": "stdout",
     "output_type": "stream",
     "text": [
      "Adversarial attack model evaluation: 18.66%\n"
     ]
    }
   ],
   "source": [
    "# Adversarial attack model evaluation\n",
    "acc2 = model.evaluate(x=x_adversarial_test, y=y_adversarial_test, verbose=0)[1]*100\n",
    "print(\"Adversarial attack model evaluation: \" + str(round(acc2,2)) + \"%\")"
   ]
  }
 ],
 "metadata": {
  "kernelspec": {
   "display_name": "Python 3 (ipykernel)",
   "language": "python",
   "name": "python3"
  },
  "language_info": {
   "codemirror_mode": {
    "name": "ipython",
    "version": 3
   },
   "file_extension": ".py",
   "mimetype": "text/x-python",
   "name": "python",
   "nbconvert_exporter": "python",
   "pygments_lexer": "ipython3",
   "version": "3.8.8"
  }
 },
 "nbformat": 4,
 "nbformat_minor": 5
}
